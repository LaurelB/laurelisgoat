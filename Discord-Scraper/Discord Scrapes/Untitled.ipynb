{
 "cells": [
  {
   "cell_type": "code",
   "execution_count": 1,
   "metadata": {},
   "outputs": [],
   "source": [
    "import pandas as pd\n",
    "import datetime"
   ]
  },
  {
   "cell_type": "code",
   "execution_count": 3,
   "metadata": {},
   "outputs": [],
   "source": [
    "df = pd.read_csv('trademates_profits.csv')"
   ]
  },
  {
   "cell_type": "code",
   "execution_count": 9,
   "metadata": {},
   "outputs": [
    {
     "data": {
      "text/plain": [
       "datetime.time"
      ]
     },
     "execution_count": 9,
     "metadata": {},
     "output_type": "execute_result"
    }
   ],
   "source": [
    "date = datetime.time\n",
    "date"
   ]
  },
  {
   "cell_type": "code",
   "execution_count": 5,
   "metadata": {},
   "outputs": [
    {
     "ename": "NameError",
     "evalue": "name 'date' is not defined",
     "output_type": "error",
     "traceback": [
      "\u001b[1;31m---------------------------------------------------------------------------\u001b[0m",
      "\u001b[1;31mNameError\u001b[0m                                 Traceback (most recent call last)",
      "\u001b[1;32m<ipython-input-5-c31565a9aa1a>\u001b[0m in \u001b[0;36m<module>\u001b[1;34m\u001b[0m\n\u001b[1;32m----> 1\u001b[1;33m \u001b[0mtoday\u001b[0m \u001b[1;33m=\u001b[0m \u001b[0mget_day\u001b[0m\u001b[1;33m(\u001b[0m\u001b[0mdate\u001b[0m\u001b[1;33m.\u001b[0m\u001b[0mday\u001b[0m\u001b[1;33m,\u001b[0m \u001b[0mdate\u001b[0m\u001b[1;33m.\u001b[0m\u001b[0mmonth\u001b[0m\u001b[1;33m,\u001b[0m \u001b[0mdate\u001b[0m\u001b[1;33m.\u001b[0m\u001b[0myear\u001b[0m\u001b[1;33m)\u001b[0m\u001b[1;33m\u001b[0m\u001b[1;33m\u001b[0m\u001b[0m\n\u001b[0m",
      "\u001b[1;31mNameError\u001b[0m: name 'date' is not defined"
     ]
    }
   ],
   "source": [
    "today = get_day(date.day, date.month, date.year)\n",
    "time = "
   ]
  },
  {
   "cell_type": "code",
   "execution_count": 4,
   "metadata": {},
   "outputs": [],
   "source": [
    "def get_day(day, month, year):\n",
    "    \"\"\"Get the timestamps from 00:00 to 23:59 of the given day.\n",
    "\n",
    "    :param day: The target day.\n",
    "    :param month: The target month.\n",
    "    :param year: The target year.\n",
    "    \"\"\"\n",
    "\n",
    "    min_time = mktime((year, month, day, 0, 0, 0, -1, -1, -1))\n",
    "    max_time = mktime((year, month, day, 23, 59, 59, -1, -1, -1))\n",
    "\n",
    "    return {\n",
    "        '00:00': snowflake(int(min_time)),\n",
    "        '23:59': snowflake(int(max_time))\n",
    "    }"
   ]
  },
  {
   "cell_type": "code",
   "execution_count": 6,
   "metadata": {},
   "outputs": [
    {
     "data": {
      "text/plain": [
       "Unnamed: 0  0                   1                               2                                                                                                                                     3                               \n",
       "14418       674648888279302204  GOOFYSPY#8332                   $Dis, interesting 🤔                                                                                                                   2020-02-26T17:04:51.441000+00:00    1\n",
       "4842        579205396166737921  beenpippinsincebeenpippin#4039  Trim city                                                                                                                             2020-08-25T16:41:44.478000+00:00    1\n",
       "4812        233095871628050433  jibroni#0841                    Down to 1 of each. Swing or hold. 33 mins to decide                                                                                   2020-08-25T19:27:09.677000+00:00    1\n",
       "4811        579205396166737921  beenpippinsincebeenpippin#4039  One more time. Swinging these 4 through earnings                                                                                      2020-08-25T19:25:06.741000+00:00    1\n",
       "4810        387329318021365774  endowdly#0373                   💪 🐧                                                                                                                                   2020-08-25T19:56:10.200000+00:00    1\n",
       "                                                                                                                                                                                                                                         ..\n",
       "9609        319685074784223263  AlexS#3225                      Nice 120% gain of portfolio in 2 hours of trading thanks to #TradeMate. Grabbed $BYND at $144 sold for $128.                          2020-05-13T16:24:59.965000+00:00    1\n",
       "9608        315710445048692737  Kev#4404                        quick 90% on VTIQ                                                                                                                     2020-05-13T16:23:27.960000+00:00    1\n",
       "9607        579205396166737921  beenpippinsincebeenpippin#4039  Trimmed again                                                                                                                         2020-05-13T16:20:32.928000+00:00    1\n",
       "9606        184746895996878848  JaxD#2305                       Never seen profits like this!                                                                                                         2020-05-13T16:19:58.174000+00:00    1\n",
       "0           488359813160501251  Merente#5844                    Thanks <@464449226521313292> !  I opted for the protection on this which limited my profits but not much.  Still a 30% trade for me!  2020-11-30T20:48:43.035000+00:00    1\n",
       "Length: 14419, dtype: int64"
      ]
     },
     "execution_count": 6,
     "metadata": {},
     "output_type": "execute_result"
    }
   ],
   "source": []
  },
  {
   "cell_type": "code",
   "execution_count": null,
   "metadata": {},
   "outputs": [],
   "source": []
  }
 ],
 "metadata": {
  "kernelspec": {
   "display_name": "Python 3",
   "language": "python",
   "name": "python3"
  },
  "language_info": {
   "codemirror_mode": {
    "name": "ipython",
    "version": 3
   },
   "file_extension": ".py",
   "mimetype": "text/x-python",
   "name": "python",
   "nbconvert_exporter": "python",
   "pygments_lexer": "ipython3",
   "version": "3.7.6"
  }
 },
 "nbformat": 4,
 "nbformat_minor": 4
}
